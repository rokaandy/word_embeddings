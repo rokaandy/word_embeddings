{
 "cells": [
  {
   "cell_type": "markdown",
   "metadata": {},
   "source": [
    "# Deep NLP - Word Embeddings\n",
    "\n",
    "Think back to NLP as we've understood it so far.\n",
    "\n",
    "If we've had some luck with NLP modeling, likely with a NaiveBayes algorithm, we were able to illustrate some correlations between words and some other feature of interest.\n",
    "\n",
    "But to whatever extent that our models were able to make connections and pick up on correlations, they did this *without any understanding of the **meaning** of the words in question*.\n",
    "\n",
    "Let's think for a minute about words and objective meanings!"
   ]
  },
  {
   "cell_type": "markdown",
   "metadata": {},
   "source": [
    "We can make sense of meaning for computational purposes by thinking about meaning in terms of similarity, i.e. thinking about meaning *holistically*.\n",
    "\n",
    "Q. Is there any precedent for this way of thinking about meaning? <br/>\n",
    "A. [Yes](https://plato.stanford.edu/entries/meaning-holism/#ArgForMeaHol)\n",
    "\n",
    "So what will this look like for us?\n",
    "\n",
    "*Remember cosine similarity?*\n",
    "\n",
    "$\\rightarrow$We'll have much the same idea here: Associate each word with values along particular dimensions in a multi-dimensional space. If we had a dimension for *softness*, for example, then pillows and marshmallows would score higher on it than rocks and bricks."
   ]
  },
  {
   "cell_type": "code",
   "execution_count": 1,
   "metadata": {},
   "outputs": [],
   "source": [
    "import gensim\n",
    "import numpy as np\n",
    "import pandas as pd"
   ]
  },
  {
   "cell_type": "code",
   "execution_count": 2,
   "metadata": {},
   "outputs": [],
   "source": [
    "# Reading in the data\n",
    "\n",
    "import json\n",
    "\n",
    "with open('JEOPARDY_QUESTIONS1.json') as f:\n",
    "    data = json.load(f)"
   ]
  },
  {
   "cell_type": "code",
   "execution_count": 3,
   "metadata": {},
   "outputs": [
    {
     "data": {
      "text/plain": [
       "list"
      ]
     },
     "execution_count": 3,
     "metadata": {},
     "output_type": "execute_result"
    }
   ],
   "source": [
    "# Let's check the datatype of our data\n",
    "\n",
    "type(data)"
   ]
  },
  {
   "cell_type": "code",
   "execution_count": 4,
   "metadata": {},
   "outputs": [
    {
     "data": {
      "text/plain": [
       "216930"
      ]
     },
     "execution_count": 4,
     "metadata": {},
     "output_type": "execute_result"
    }
   ],
   "source": [
    "# And the length\n",
    "\n",
    "len(data)"
   ]
  },
  {
   "cell_type": "code",
   "execution_count": 5,
   "metadata": {
    "scrolled": true
   },
   "outputs": [
    {
     "data": {
      "text/plain": [
       "{'category': 'HISTORY',\n",
       " 'air_date': '2004-12-31',\n",
       " 'question': \"'For the last 8 years of his life, Galileo was under house arrest for espousing this man's theory'\",\n",
       " 'value': '$200',\n",
       " 'answer': 'Copernicus',\n",
       " 'round': 'Jeopardy!',\n",
       " 'show_number': '4680'}"
      ]
     },
     "execution_count": 5,
     "metadata": {},
     "output_type": "execute_result"
    }
   ],
   "source": [
    "# Let's look at the first element in our list\n",
    "\n",
    "data[0]"
   ]
  },
  {
   "cell_type": "code",
   "execution_count": 6,
   "metadata": {},
   "outputs": [
    {
     "data": {
      "text/plain": [
       "98"
      ]
     },
     "execution_count": 6,
     "metadata": {},
     "output_type": "execute_result"
    }
   ],
   "source": [
    "# How many words do we have in our first question?\n",
    "\n",
    "len(data[0]['question'])"
   ]
  },
  {
   "cell_type": "code",
   "execution_count": 7,
   "metadata": {},
   "outputs": [
    {
     "data": {
      "text/plain": [
       "[\"'For\",\n",
       " 'the',\n",
       " 'last',\n",
       " '8',\n",
       " 'years',\n",
       " 'of',\n",
       " 'his',\n",
       " 'life,',\n",
       " 'Galileo',\n",
       " 'was',\n",
       " 'under',\n",
       " 'house',\n",
       " 'arrest',\n",
       " 'for',\n",
       " 'espousing',\n",
       " 'this',\n",
       " \"man's\",\n",
       " \"theory'\"]"
      ]
     },
     "execution_count": 7,
     "metadata": {},
     "output_type": "execute_result"
    }
   ],
   "source": [
    "# Let's try that again!\n",
    "\n",
    "data[0]['question'].split(' ')"
   ]
  },
  {
   "cell_type": "code",
   "execution_count": 8,
   "metadata": {},
   "outputs": [
    {
     "data": {
      "text/plain": [
       "18"
      ]
     },
     "execution_count": 8,
     "metadata": {},
     "output_type": "execute_result"
    }
   ],
   "source": [
    "len(data[0]['question'].split(' '))"
   ]
  },
  {
   "cell_type": "code",
   "execution_count": 9,
   "metadata": {},
   "outputs": [
    {
     "data": {
      "text/plain": [
       "3169994"
      ]
     },
     "execution_count": 9,
     "metadata": {},
     "output_type": "execute_result"
    }
   ],
   "source": [
    "# Let's count the total number of\n",
    "# clue words we have.\n",
    "\n",
    "length = 0\n",
    "\n",
    "for clue in data:\n",
    "    length += len(clue['question'].split(' '))\n",
    "    \n",
    "length"
   ]
  },
  {
   "cell_type": "markdown",
   "metadata": {},
   "source": [
    "## Using Word2Vec"
   ]
  },
  {
   "cell_type": "code",
   "execution_count": 10,
   "metadata": {},
   "outputs": [],
   "source": [
    "import string"
   ]
  },
  {
   "cell_type": "code",
   "execution_count": 11,
   "metadata": {},
   "outputs": [
    {
     "data": {
      "text/plain": [
       "'!\"#$%&\\'()*+,-./:;<=>?@[\\\\]^_`{|}~'"
      ]
     },
     "execution_count": 11,
     "metadata": {},
     "output_type": "execute_result"
    }
   ],
   "source": [
    "string.punctuation"
   ]
  },
  {
   "cell_type": "code",
   "execution_count": 12,
   "metadata": {},
   "outputs": [],
   "source": [
    "df = pd.DataFrame(data)\n",
    "df['cleaned'] = df['question'].apply(\n",
    "    lambda x: x.lower()\n",
    "               .translate(str.maketrans('', '', string.punctuation))\n",
    "               .split()\n",
    ")"
   ]
  },
  {
   "cell_type": "code",
   "execution_count": 13,
   "metadata": {},
   "outputs": [
    {
     "data": {
      "text/html": [
       "<div>\n",
       "<style scoped>\n",
       "    .dataframe tbody tr th:only-of-type {\n",
       "        vertical-align: middle;\n",
       "    }\n",
       "\n",
       "    .dataframe tbody tr th {\n",
       "        vertical-align: top;\n",
       "    }\n",
       "\n",
       "    .dataframe thead th {\n",
       "        text-align: right;\n",
       "    }\n",
       "</style>\n",
       "<table border=\"1\" class=\"dataframe\">\n",
       "  <thead>\n",
       "    <tr style=\"text-align: right;\">\n",
       "      <th></th>\n",
       "      <th>air_date</th>\n",
       "      <th>answer</th>\n",
       "      <th>category</th>\n",
       "      <th>question</th>\n",
       "      <th>round</th>\n",
       "      <th>show_number</th>\n",
       "      <th>value</th>\n",
       "      <th>cleaned</th>\n",
       "    </tr>\n",
       "  </thead>\n",
       "  <tbody>\n",
       "    <tr>\n",
       "      <th>0</th>\n",
       "      <td>2004-12-31</td>\n",
       "      <td>Copernicus</td>\n",
       "      <td>HISTORY</td>\n",
       "      <td>'For the last 8 years of his life, Galileo was...</td>\n",
       "      <td>Jeopardy!</td>\n",
       "      <td>4680</td>\n",
       "      <td>$200</td>\n",
       "      <td>[for, the, last, 8, years, of, his, life, gali...</td>\n",
       "    </tr>\n",
       "    <tr>\n",
       "      <th>1</th>\n",
       "      <td>2004-12-31</td>\n",
       "      <td>Jim Thorpe</td>\n",
       "      <td>ESPN's TOP 10 ALL-TIME ATHLETES</td>\n",
       "      <td>'No. 2: 1912 Olympian; football star at Carlis...</td>\n",
       "      <td>Jeopardy!</td>\n",
       "      <td>4680</td>\n",
       "      <td>$200</td>\n",
       "      <td>[no, 2, 1912, olympian, football, star, at, ca...</td>\n",
       "    </tr>\n",
       "    <tr>\n",
       "      <th>2</th>\n",
       "      <td>2004-12-31</td>\n",
       "      <td>Arizona</td>\n",
       "      <td>EVERYBODY TALKS ABOUT IT...</td>\n",
       "      <td>'The city of Yuma in this state has a record a...</td>\n",
       "      <td>Jeopardy!</td>\n",
       "      <td>4680</td>\n",
       "      <td>$200</td>\n",
       "      <td>[the, city, of, yuma, in, this, state, has, a,...</td>\n",
       "    </tr>\n",
       "    <tr>\n",
       "      <th>3</th>\n",
       "      <td>2004-12-31</td>\n",
       "      <td>McDonald\\'s</td>\n",
       "      <td>THE COMPANY LINE</td>\n",
       "      <td>'In 1963, live on \"The Art Linkletter Show\", t...</td>\n",
       "      <td>Jeopardy!</td>\n",
       "      <td>4680</td>\n",
       "      <td>$200</td>\n",
       "      <td>[in, 1963, live, on, the, art, linkletter, sho...</td>\n",
       "    </tr>\n",
       "    <tr>\n",
       "      <th>4</th>\n",
       "      <td>2004-12-31</td>\n",
       "      <td>John Adams</td>\n",
       "      <td>EPITAPHS &amp; TRIBUTES</td>\n",
       "      <td>'Signer of the Dec. of Indep., framer of the C...</td>\n",
       "      <td>Jeopardy!</td>\n",
       "      <td>4680</td>\n",
       "      <td>$200</td>\n",
       "      <td>[signer, of, the, dec, of, indep, framer, of, ...</td>\n",
       "    </tr>\n",
       "    <tr>\n",
       "      <th>5</th>\n",
       "      <td>2004-12-31</td>\n",
       "      <td>the ant</td>\n",
       "      <td>3-LETTER WORDS</td>\n",
       "      <td>'In the title of an Aesop fable, this insect s...</td>\n",
       "      <td>Jeopardy!</td>\n",
       "      <td>4680</td>\n",
       "      <td>$200</td>\n",
       "      <td>[in, the, title, of, an, aesop, fable, this, i...</td>\n",
       "    </tr>\n",
       "    <tr>\n",
       "      <th>6</th>\n",
       "      <td>2004-12-31</td>\n",
       "      <td>the Appian Way</td>\n",
       "      <td>HISTORY</td>\n",
       "      <td>'Built in 312 B.C. to link Rome &amp; the South of...</td>\n",
       "      <td>Jeopardy!</td>\n",
       "      <td>4680</td>\n",
       "      <td>$400</td>\n",
       "      <td>[built, in, 312, bc, to, link, rome, the, sout...</td>\n",
       "    </tr>\n",
       "    <tr>\n",
       "      <th>7</th>\n",
       "      <td>2004-12-31</td>\n",
       "      <td>Michael Jordan</td>\n",
       "      <td>ESPN's TOP 10 ALL-TIME ATHLETES</td>\n",
       "      <td>'No. 8: 30 steals for the Birmingham Barons; 2...</td>\n",
       "      <td>Jeopardy!</td>\n",
       "      <td>4680</td>\n",
       "      <td>$400</td>\n",
       "      <td>[no, 8, 30, steals, for, the, birmingham, baro...</td>\n",
       "    </tr>\n",
       "    <tr>\n",
       "      <th>8</th>\n",
       "      <td>2004-12-31</td>\n",
       "      <td>Washington</td>\n",
       "      <td>EVERYBODY TALKS ABOUT IT...</td>\n",
       "      <td>'In the winter of 1971-72, a record 1,122 inch...</td>\n",
       "      <td>Jeopardy!</td>\n",
       "      <td>4680</td>\n",
       "      <td>$400</td>\n",
       "      <td>[in, the, winter, of, 197172, a, record, 1122,...</td>\n",
       "    </tr>\n",
       "    <tr>\n",
       "      <th>9</th>\n",
       "      <td>2004-12-31</td>\n",
       "      <td>Crate &amp; Barrel</td>\n",
       "      <td>THE COMPANY LINE</td>\n",
       "      <td>'This housewares store was named for the packa...</td>\n",
       "      <td>Jeopardy!</td>\n",
       "      <td>4680</td>\n",
       "      <td>$400</td>\n",
       "      <td>[this, housewares, store, was, named, for, the...</td>\n",
       "    </tr>\n",
       "    <tr>\n",
       "      <th>10</th>\n",
       "      <td>2004-12-31</td>\n",
       "      <td>Jackie Gleason</td>\n",
       "      <td>EPITAPHS &amp; TRIBUTES</td>\n",
       "      <td>'\"And away we go\"'</td>\n",
       "      <td>Jeopardy!</td>\n",
       "      <td>4680</td>\n",
       "      <td>$400</td>\n",
       "      <td>[and, away, we, go]</td>\n",
       "    </tr>\n",
       "    <tr>\n",
       "      <th>11</th>\n",
       "      <td>2004-12-31</td>\n",
       "      <td>the cud</td>\n",
       "      <td>3-LETTER WORDS</td>\n",
       "      <td>'Cows regurgitate this from the first stomach ...</td>\n",
       "      <td>Jeopardy!</td>\n",
       "      <td>4680</td>\n",
       "      <td>$400</td>\n",
       "      <td>[cows, regurgitate, this, from, the, first, st...</td>\n",
       "    </tr>\n",
       "    <tr>\n",
       "      <th>12</th>\n",
       "      <td>2004-12-31</td>\n",
       "      <td>Ceylon (or Sri Lanka)</td>\n",
       "      <td>HISTORY</td>\n",
       "      <td>'In 1000 Rajaraja I of the Cholas battled to t...</td>\n",
       "      <td>Jeopardy!</td>\n",
       "      <td>4680</td>\n",
       "      <td>$600</td>\n",
       "      <td>[in, 1000, rajaraja, i, of, the, cholas, battl...</td>\n",
       "    </tr>\n",
       "    <tr>\n",
       "      <th>13</th>\n",
       "      <td>2004-12-31</td>\n",
       "      <td>Jim Brown</td>\n",
       "      <td>ESPN's TOP 10 ALL-TIME ATHLETES</td>\n",
       "      <td>'No. 1: Lettered in hoops, football &amp; lacrosse...</td>\n",
       "      <td>Jeopardy!</td>\n",
       "      <td>4680</td>\n",
       "      <td>$600</td>\n",
       "      <td>[no, 1, lettered, in, hoops, football, lacross...</td>\n",
       "    </tr>\n",
       "    <tr>\n",
       "      <th>14</th>\n",
       "      <td>2004-12-31</td>\n",
       "      <td>the UV index</td>\n",
       "      <td>EVERYBODY TALKS ABOUT IT...</td>\n",
       "      <td>'On June 28, 1994 the nat'l weather service be...</td>\n",
       "      <td>Jeopardy!</td>\n",
       "      <td>4680</td>\n",
       "      <td>$600</td>\n",
       "      <td>[on, june, 28, 1994, the, natl, weather, servi...</td>\n",
       "    </tr>\n",
       "    <tr>\n",
       "      <th>15</th>\n",
       "      <td>2004-12-31</td>\n",
       "      <td>Bulova</td>\n",
       "      <td>THE COMPANY LINE</td>\n",
       "      <td>'This company's Accutron watch, introduced in ...</td>\n",
       "      <td>Jeopardy!</td>\n",
       "      <td>4680</td>\n",
       "      <td>$600</td>\n",
       "      <td>[this, companys, accutron, watch, introduced, ...</td>\n",
       "    </tr>\n",
       "    <tr>\n",
       "      <th>16</th>\n",
       "      <td>2004-12-31</td>\n",
       "      <td>Jesse James</td>\n",
       "      <td>EPITAPHS &amp; TRIBUTES</td>\n",
       "      <td>'Outlaw: \"Murdered by a traitor and a coward w...</td>\n",
       "      <td>Jeopardy!</td>\n",
       "      <td>4680</td>\n",
       "      <td>$600</td>\n",
       "      <td>[outlaw, murdered, by, a, traitor, and, a, cow...</td>\n",
       "    </tr>\n",
       "    <tr>\n",
       "      <th>17</th>\n",
       "      <td>2004-12-31</td>\n",
       "      <td>imp</td>\n",
       "      <td>3-LETTER WORDS</td>\n",
       "      <td>'A small demon, or a mischievous child (who mi...</td>\n",
       "      <td>Jeopardy!</td>\n",
       "      <td>4680</td>\n",
       "      <td>$600</td>\n",
       "      <td>[a, small, demon, or, a, mischievous, child, w...</td>\n",
       "    </tr>\n",
       "    <tr>\n",
       "      <th>18</th>\n",
       "      <td>2004-12-31</td>\n",
       "      <td>the International</td>\n",
       "      <td>HISTORY</td>\n",
       "      <td>'Karl led the first of these Marxist organizat...</td>\n",
       "      <td>Jeopardy!</td>\n",
       "      <td>4680</td>\n",
       "      <td>$800</td>\n",
       "      <td>[karl, led, the, first, of, these, marxist, or...</td>\n",
       "    </tr>\n",
       "    <tr>\n",
       "      <th>19</th>\n",
       "      <td>2004-12-31</td>\n",
       "      <td>(Lou) Gehrig</td>\n",
       "      <td>ESPN's TOP 10 ALL-TIME ATHLETES</td>\n",
       "      <td>'No. 10: FB/LB for Columbia U. in the 1920s; M...</td>\n",
       "      <td>Jeopardy!</td>\n",
       "      <td>4680</td>\n",
       "      <td>$800</td>\n",
       "      <td>[no, 10, fblb, for, columbia, u, in, the, 1920...</td>\n",
       "    </tr>\n",
       "    <tr>\n",
       "      <th>20</th>\n",
       "      <td>2004-12-31</td>\n",
       "      <td>Morocco</td>\n",
       "      <td>EVERYBODY TALKS ABOUT IT...</td>\n",
       "      <td>'Africa's lowest temperature was 11 degrees be...</td>\n",
       "      <td>Jeopardy!</td>\n",
       "      <td>4680</td>\n",
       "      <td>$800</td>\n",
       "      <td>[africas, lowest, temperature, was, 11, degree...</td>\n",
       "    </tr>\n",
       "    <tr>\n",
       "      <th>21</th>\n",
       "      <td>2004-12-31</td>\n",
       "      <td>(Paul) Bonwit</td>\n",
       "      <td>THE COMPANY LINE</td>\n",
       "      <td>'Edward Teller &amp; this man partnered in 1898 to...</td>\n",
       "      <td>Jeopardy!</td>\n",
       "      <td>4680</td>\n",
       "      <td>$800</td>\n",
       "      <td>[edward, teller, this, man, partnered, in, 189...</td>\n",
       "    </tr>\n",
       "    <tr>\n",
       "      <th>22</th>\n",
       "      <td>2004-12-31</td>\n",
       "      <td>Hattie McDaniel (for her role in Gone with the...</td>\n",
       "      <td>EPITAPHS &amp; TRIBUTES</td>\n",
       "      <td>'1939 Oscar winner: \"...you are a credit to yo...</td>\n",
       "      <td>Jeopardy!</td>\n",
       "      <td>4680</td>\n",
       "      <td>$2,000</td>\n",
       "      <td>[1939, oscar, winner, you, are, a, credit, to,...</td>\n",
       "    </tr>\n",
       "    <tr>\n",
       "      <th>23</th>\n",
       "      <td>2004-12-31</td>\n",
       "      <td>era</td>\n",
       "      <td>3-LETTER WORDS</td>\n",
       "      <td>'In geologic time one of these, shorter than a...</td>\n",
       "      <td>Jeopardy!</td>\n",
       "      <td>4680</td>\n",
       "      <td>$800</td>\n",
       "      <td>[in, geologic, time, one, of, these, shorter, ...</td>\n",
       "    </tr>\n",
       "    <tr>\n",
       "      <th>24</th>\n",
       "      <td>2004-12-31</td>\n",
       "      <td>the Congress Party</td>\n",
       "      <td>HISTORY</td>\n",
       "      <td>'This Asian political party was founded in 188...</td>\n",
       "      <td>Jeopardy!</td>\n",
       "      <td>4680</td>\n",
       "      <td>$1000</td>\n",
       "      <td>[this, asian, political, party, was, founded, ...</td>\n",
       "    </tr>\n",
       "    <tr>\n",
       "      <th>25</th>\n",
       "      <td>2004-12-31</td>\n",
       "      <td>(Wilt) Chamberlain</td>\n",
       "      <td>ESPN's TOP 10 ALL-TIME ATHLETES</td>\n",
       "      <td>'No. 5: Only center to lead the NBA in assists...</td>\n",
       "      <td>Jeopardy!</td>\n",
       "      <td>4680</td>\n",
       "      <td>$1000</td>\n",
       "      <td>[no, 5, only, center, to, lead, the, nba, in, ...</td>\n",
       "    </tr>\n",
       "    <tr>\n",
       "      <th>26</th>\n",
       "      <td>2004-12-31</td>\n",
       "      <td>K2</td>\n",
       "      <td>THE COMPANY LINE</td>\n",
       "      <td>'The Kirschner brothers, Don &amp; Bill, named thi...</td>\n",
       "      <td>Jeopardy!</td>\n",
       "      <td>4680</td>\n",
       "      <td>$1000</td>\n",
       "      <td>[the, kirschner, brothers, don, bill, named, t...</td>\n",
       "    </tr>\n",
       "    <tr>\n",
       "      <th>27</th>\n",
       "      <td>2004-12-31</td>\n",
       "      <td>Ethan Allen</td>\n",
       "      <td>EPITAPHS &amp; TRIBUTES</td>\n",
       "      <td>'Revolutionary War hero: \"His spirit is in Ver...</td>\n",
       "      <td>Jeopardy!</td>\n",
       "      <td>4680</td>\n",
       "      <td>$1000</td>\n",
       "      <td>[revolutionary, war, hero, his, spirit, is, in...</td>\n",
       "    </tr>\n",
       "    <tr>\n",
       "      <th>28</th>\n",
       "      <td>2004-12-31</td>\n",
       "      <td>ply</td>\n",
       "      <td>3-LETTER WORDS</td>\n",
       "      <td>'A single layer of paper, or to perform one's ...</td>\n",
       "      <td>Jeopardy!</td>\n",
       "      <td>4680</td>\n",
       "      <td>$1000</td>\n",
       "      <td>[a, single, layer, of, paper, or, to, perform,...</td>\n",
       "    </tr>\n",
       "    <tr>\n",
       "      <th>29</th>\n",
       "      <td>2004-12-31</td>\n",
       "      <td>Horton</td>\n",
       "      <td>DR. SEUSS AT THE MULTIPLEX</td>\n",
       "      <td>'&lt;a href=\"http://www.j-archive.com/media/2004-...</td>\n",
       "      <td>Double Jeopardy!</td>\n",
       "      <td>4680</td>\n",
       "      <td>$400</td>\n",
       "      <td>[a, hrefhttpwwwjarchivecommedia20041231dj23mp3...</td>\n",
       "    </tr>\n",
       "    <tr>\n",
       "      <th>...</th>\n",
       "      <td>...</td>\n",
       "      <td>...</td>\n",
       "      <td>...</td>\n",
       "      <td>...</td>\n",
       "      <td>...</td>\n",
       "      <td>...</td>\n",
       "      <td>...</td>\n",
       "      <td>...</td>\n",
       "    </tr>\n",
       "    <tr>\n",
       "      <th>216900</th>\n",
       "      <td>2006-05-11</td>\n",
       "      <td>Alec Baldwin</td>\n",
       "      <td>OFF-BROADWAY</td>\n",
       "      <td>'This Baldwin brother was extremely entertaini...</td>\n",
       "      <td>Double Jeopardy!</td>\n",
       "      <td>4999</td>\n",
       "      <td>$400</td>\n",
       "      <td>[this, baldwin, brother, was, extremely, enter...</td>\n",
       "    </tr>\n",
       "    <tr>\n",
       "      <th>216901</th>\n",
       "      <td>2006-05-11</td>\n",
       "      <td>Samson</td>\n",
       "      <td>RIDDLE ME THIS</td>\n",
       "      <td>'He used the strength of his mind when he prop...</td>\n",
       "      <td>Double Jeopardy!</td>\n",
       "      <td>4999</td>\n",
       "      <td>$400</td>\n",
       "      <td>[he, used, the, strength, of, his, mind, when,...</td>\n",
       "    </tr>\n",
       "    <tr>\n",
       "      <th>216902</th>\n",
       "      <td>2006-05-11</td>\n",
       "      <td>the teal</td>\n",
       "      <td>\"T\" BIRDS</td>\n",
       "      <td>'Common species of this duck include blue-wing...</td>\n",
       "      <td>Double Jeopardy!</td>\n",
       "      <td>4999</td>\n",
       "      <td>$400</td>\n",
       "      <td>[common, species, of, this, duck, include, blu...</td>\n",
       "    </tr>\n",
       "    <tr>\n",
       "      <th>216903</th>\n",
       "      <td>2006-05-11</td>\n",
       "      <td>Africa</td>\n",
       "      <td>AUTHORS IN THEIR YOUTH</td>\n",
       "      <td>'As a child, Joseph Conrad pointed to the cent...</td>\n",
       "      <td>Double Jeopardy!</td>\n",
       "      <td>4999</td>\n",
       "      <td>$400</td>\n",
       "      <td>[as, a, child, joseph, conrad, pointed, to, th...</td>\n",
       "    </tr>\n",
       "    <tr>\n",
       "      <th>216904</th>\n",
       "      <td>2006-05-11</td>\n",
       "      <td>Ronald Reagan</td>\n",
       "      <td>QUOTATIONS</td>\n",
       "      <td>'In 1981 he quipped, \"You can tell a lot about...</td>\n",
       "      <td>Double Jeopardy!</td>\n",
       "      <td>4999</td>\n",
       "      <td>$400</td>\n",
       "      <td>[in, 1981, he, quipped, you, can, tell, a, lot...</td>\n",
       "    </tr>\n",
       "    <tr>\n",
       "      <th>216905</th>\n",
       "      <td>2006-05-11</td>\n",
       "      <td>Budapest</td>\n",
       "      <td>WORLD CAPITALS</td>\n",
       "      <td>'It has a museum devoted to composer Zoltan Ko...</td>\n",
       "      <td>Double Jeopardy!</td>\n",
       "      <td>4999</td>\n",
       "      <td>$800</td>\n",
       "      <td>[it, has, a, museum, devoted, to, composer, zo...</td>\n",
       "    </tr>\n",
       "    <tr>\n",
       "      <th>216906</th>\n",
       "      <td>2006-05-11</td>\n",
       "      <td>Amsterdam</td>\n",
       "      <td>OFF-BROADWAY</td>\n",
       "      <td>'\"Red Light Winter\" centers on a love triangle...</td>\n",
       "      <td>Double Jeopardy!</td>\n",
       "      <td>4999</td>\n",
       "      <td>$800</td>\n",
       "      <td>[red, light, winter, centers, on, a, love, tri...</td>\n",
       "    </tr>\n",
       "    <tr>\n",
       "      <th>216907</th>\n",
       "      <td>2006-05-11</td>\n",
       "      <td>man</td>\n",
       "      <td>RIDDLE ME THIS</td>\n",
       "      <td>'Sphinx: What animal walks on 4 legs in the mo...</td>\n",
       "      <td>Double Jeopardy!</td>\n",
       "      <td>4999</td>\n",
       "      <td>$800</td>\n",
       "      <td>[sphinx, what, animal, walks, on, 4, legs, in,...</td>\n",
       "    </tr>\n",
       "    <tr>\n",
       "      <th>216908</th>\n",
       "      <td>2006-05-11</td>\n",
       "      <td>a toucan</td>\n",
       "      <td>\"T\" BIRDS</td>\n",
       "      <td>'Toco, the largest species of this colorful bi...</td>\n",
       "      <td>Double Jeopardy!</td>\n",
       "      <td>4999</td>\n",
       "      <td>$800</td>\n",
       "      <td>[toco, the, largest, species, of, this, colorf...</td>\n",
       "    </tr>\n",
       "    <tr>\n",
       "      <th>216909</th>\n",
       "      <td>2006-05-11</td>\n",
       "      <td>Allen Ginsberg</td>\n",
       "      <td>AUTHORS IN THEIR YOUTH</td>\n",
       "      <td>'Poet Gregory Corso went on the beat path afte...</td>\n",
       "      <td>Double Jeopardy!</td>\n",
       "      <td>4999</td>\n",
       "      <td>$800</td>\n",
       "      <td>[poet, gregory, corso, went, on, the, beat, pa...</td>\n",
       "    </tr>\n",
       "    <tr>\n",
       "      <th>216910</th>\n",
       "      <td>2006-05-11</td>\n",
       "      <td>Muhammad Ali</td>\n",
       "      <td>QUOTATIONS</td>\n",
       "      <td>'In his prime this athlete said, It's hard to ...</td>\n",
       "      <td>Double Jeopardy!</td>\n",
       "      <td>4999</td>\n",
       "      <td>$800</td>\n",
       "      <td>[in, his, prime, this, athlete, said, its, har...</td>\n",
       "    </tr>\n",
       "    <tr>\n",
       "      <th>216911</th>\n",
       "      <td>2006-05-11</td>\n",
       "      <td>Oslo</td>\n",
       "      <td>WORLD CAPITALS</td>\n",
       "      <td>'It's home to the Holmenkollen ski jump'</td>\n",
       "      <td>Double Jeopardy!</td>\n",
       "      <td>4999</td>\n",
       "      <td>$1200</td>\n",
       "      <td>[its, home, to, the, holmenkollen, ski, jump]</td>\n",
       "    </tr>\n",
       "    <tr>\n",
       "      <th>216912</th>\n",
       "      <td>2006-05-11</td>\n",
       "      <td>Siddhartha</td>\n",
       "      <td>OFF-BROADWAY</td>\n",
       "      <td>'We'd like to \"enlighten\" you about the musica...</td>\n",
       "      <td>Double Jeopardy!</td>\n",
       "      <td>4999</td>\n",
       "      <td>$1200</td>\n",
       "      <td>[wed, like, to, enlighten, you, about, the, mu...</td>\n",
       "    </tr>\n",
       "    <tr>\n",
       "      <th>216913</th>\n",
       "      <td>2006-05-11</td>\n",
       "      <td>(Edward) Elgar</td>\n",
       "      <td>RIDDLE ME THIS</td>\n",
       "      <td>'He created the musical riddles called the \"En...</td>\n",
       "      <td>Double Jeopardy!</td>\n",
       "      <td>4999</td>\n",
       "      <td>$1200</td>\n",
       "      <td>[he, created, the, musical, riddles, called, t...</td>\n",
       "    </tr>\n",
       "    <tr>\n",
       "      <th>216914</th>\n",
       "      <td>2006-05-11</td>\n",
       "      <td>a tern</td>\n",
       "      <td>\"T\" BIRDS</td>\n",
       "      <td>'One species of this bird breeds in the Arctic...</td>\n",
       "      <td>Double Jeopardy!</td>\n",
       "      <td>4999</td>\n",
       "      <td>$1200</td>\n",
       "      <td>[one, species, of, this, bird, breeds, in, the...</td>\n",
       "    </tr>\n",
       "    <tr>\n",
       "      <th>216915</th>\n",
       "      <td>2006-05-11</td>\n",
       "      <td>(Erle Stanley) Gardner</td>\n",
       "      <td>AUTHORS IN THEIR YOUTH</td>\n",
       "      <td>'In his teens he worked in an assistant D.A.'s...</td>\n",
       "      <td>Double Jeopardy!</td>\n",
       "      <td>4999</td>\n",
       "      <td>$1200</td>\n",
       "      <td>[in, his, teens, he, worked, in, an, assistant...</td>\n",
       "    </tr>\n",
       "    <tr>\n",
       "      <th>216916</th>\n",
       "      <td>2006-05-11</td>\n",
       "      <td>work</td>\n",
       "      <td>QUOTATIONS</td>\n",
       "      <td>'Oscar Wilde called this 4-letter word \"the cu...</td>\n",
       "      <td>Double Jeopardy!</td>\n",
       "      <td>4999</td>\n",
       "      <td>$2,200</td>\n",
       "      <td>[oscar, wilde, called, this, 4letter, word, th...</td>\n",
       "    </tr>\n",
       "    <tr>\n",
       "      <th>216917</th>\n",
       "      <td>2006-05-11</td>\n",
       "      <td>Georgetown</td>\n",
       "      <td>WORLD CAPITALS</td>\n",
       "      <td>'Guyanese capital named for a Hanoverian monarch'</td>\n",
       "      <td>Double Jeopardy!</td>\n",
       "      <td>4999</td>\n",
       "      <td>$3,400</td>\n",
       "      <td>[guyanese, capital, named, for, a, hanoverian,...</td>\n",
       "    </tr>\n",
       "    <tr>\n",
       "      <th>216918</th>\n",
       "      <td>2006-05-11</td>\n",
       "      <td>Fanny Hill</td>\n",
       "      <td>OFF-BROADWAY</td>\n",
       "      <td>'A naughty 18th c. novel originally titled \"Me...</td>\n",
       "      <td>Double Jeopardy!</td>\n",
       "      <td>4999</td>\n",
       "      <td>$1600</td>\n",
       "      <td>[a, naughty, 18th, c, novel, originally, title...</td>\n",
       "    </tr>\n",
       "    <tr>\n",
       "      <th>216919</th>\n",
       "      <td>2006-05-11</td>\n",
       "      <td>Magritte</td>\n",
       "      <td>RIDDLE ME THIS</td>\n",
       "      <td>'If this riddling Belgian surrealist painter, ...</td>\n",
       "      <td>Double Jeopardy!</td>\n",
       "      <td>4999</td>\n",
       "      <td>$1600</td>\n",
       "      <td>[if, this, riddling, belgian, surrealist, pain...</td>\n",
       "    </tr>\n",
       "    <tr>\n",
       "      <th>216920</th>\n",
       "      <td>2006-05-11</td>\n",
       "      <td>thrushes</td>\n",
       "      <td>\"T\" BIRDS</td>\n",
       "      <td>'Nightingales &amp; robins belong to this family o...</td>\n",
       "      <td>Double Jeopardy!</td>\n",
       "      <td>4999</td>\n",
       "      <td>$1600</td>\n",
       "      <td>[nightingales, robins, belong, to, this, famil...</td>\n",
       "    </tr>\n",
       "    <tr>\n",
       "      <th>216921</th>\n",
       "      <td>2006-05-11</td>\n",
       "      <td>Anaïs Nin</td>\n",
       "      <td>AUTHORS IN THEIR YOUTH</td>\n",
       "      <td>'Her hotsy-totsy diaries trace back to one she...</td>\n",
       "      <td>Double Jeopardy!</td>\n",
       "      <td>4999</td>\n",
       "      <td>$1600</td>\n",
       "      <td>[her, hotsytotsy, diaries, trace, back, to, on...</td>\n",
       "    </tr>\n",
       "    <tr>\n",
       "      <th>216922</th>\n",
       "      <td>2006-05-11</td>\n",
       "      <td>(Margaret) Thatcher</td>\n",
       "      <td>QUOTATIONS</td>\n",
       "      <td>'A motto of hers was \"in politics, if you want...</td>\n",
       "      <td>Double Jeopardy!</td>\n",
       "      <td>4999</td>\n",
       "      <td>$1600</td>\n",
       "      <td>[a, motto, of, hers, was, in, politics, if, yo...</td>\n",
       "    </tr>\n",
       "    <tr>\n",
       "      <th>216923</th>\n",
       "      <td>2006-05-11</td>\n",
       "      <td>Paramaribo</td>\n",
       "      <td>WORLD CAPITALS</td>\n",
       "      <td>'It's on the Suriname River'</td>\n",
       "      <td>Double Jeopardy!</td>\n",
       "      <td>4999</td>\n",
       "      <td>$2000</td>\n",
       "      <td>[its, on, the, suriname, river]</td>\n",
       "    </tr>\n",
       "    <tr>\n",
       "      <th>216924</th>\n",
       "      <td>2006-05-11</td>\n",
       "      <td>Stomp</td>\n",
       "      <td>OFF-BROADWAY</td>\n",
       "      <td>'In 2006 the cast of this long-running hit emb...</td>\n",
       "      <td>Double Jeopardy!</td>\n",
       "      <td>4999</td>\n",
       "      <td>$2000</td>\n",
       "      <td>[in, 2006, the, cast, of, this, longrunning, h...</td>\n",
       "    </tr>\n",
       "    <tr>\n",
       "      <th>216925</th>\n",
       "      <td>2006-05-11</td>\n",
       "      <td>Turandot</td>\n",
       "      <td>RIDDLE ME THIS</td>\n",
       "      <td>'This Puccini opera turns on the solution to 3...</td>\n",
       "      <td>Double Jeopardy!</td>\n",
       "      <td>4999</td>\n",
       "      <td>$2000</td>\n",
       "      <td>[this, puccini, opera, turns, on, the, solutio...</td>\n",
       "    </tr>\n",
       "    <tr>\n",
       "      <th>216926</th>\n",
       "      <td>2006-05-11</td>\n",
       "      <td>a titmouse</td>\n",
       "      <td>\"T\" BIRDS</td>\n",
       "      <td>'In North America this term is properly applie...</td>\n",
       "      <td>Double Jeopardy!</td>\n",
       "      <td>4999</td>\n",
       "      <td>$2000</td>\n",
       "      <td>[in, north, america, this, term, is, properly,...</td>\n",
       "    </tr>\n",
       "    <tr>\n",
       "      <th>216927</th>\n",
       "      <td>2006-05-11</td>\n",
       "      <td>Clive Barker</td>\n",
       "      <td>AUTHORS IN THEIR YOUTH</td>\n",
       "      <td>'In Penny Lane, where this \"Hellraiser\" grew u...</td>\n",
       "      <td>Double Jeopardy!</td>\n",
       "      <td>4999</td>\n",
       "      <td>$2000</td>\n",
       "      <td>[in, penny, lane, where, this, hellraiser, gre...</td>\n",
       "    </tr>\n",
       "    <tr>\n",
       "      <th>216928</th>\n",
       "      <td>2006-05-11</td>\n",
       "      <td>Geronimo</td>\n",
       "      <td>QUOTATIONS</td>\n",
       "      <td>'From Ft. Sill, Okla. he made the plea, Arizon...</td>\n",
       "      <td>Double Jeopardy!</td>\n",
       "      <td>4999</td>\n",
       "      <td>$2000</td>\n",
       "      <td>[from, ft, sill, okla, he, made, the, plea, ar...</td>\n",
       "    </tr>\n",
       "    <tr>\n",
       "      <th>216929</th>\n",
       "      <td>2006-05-11</td>\n",
       "      <td>Grigori Alexandrovich Potemkin</td>\n",
       "      <td>HISTORIC NAMES</td>\n",
       "      <td>'A silent movie title includes the last name o...</td>\n",
       "      <td>Final Jeopardy!</td>\n",
       "      <td>4999</td>\n",
       "      <td>None</td>\n",
       "      <td>[a, silent, movie, title, includes, the, last,...</td>\n",
       "    </tr>\n",
       "  </tbody>\n",
       "</table>\n",
       "<p>216930 rows × 8 columns</p>\n",
       "</div>"
      ],
      "text/plain": [
       "          air_date                                             answer  \\\n",
       "0       2004-12-31                                         Copernicus   \n",
       "1       2004-12-31                                         Jim Thorpe   \n",
       "2       2004-12-31                                            Arizona   \n",
       "3       2004-12-31                                        McDonald\\'s   \n",
       "4       2004-12-31                                         John Adams   \n",
       "5       2004-12-31                                            the ant   \n",
       "6       2004-12-31                                     the Appian Way   \n",
       "7       2004-12-31                                     Michael Jordan   \n",
       "8       2004-12-31                                         Washington   \n",
       "9       2004-12-31                                     Crate & Barrel   \n",
       "10      2004-12-31                                     Jackie Gleason   \n",
       "11      2004-12-31                                            the cud   \n",
       "12      2004-12-31                              Ceylon (or Sri Lanka)   \n",
       "13      2004-12-31                                          Jim Brown   \n",
       "14      2004-12-31                                       the UV index   \n",
       "15      2004-12-31                                             Bulova   \n",
       "16      2004-12-31                                        Jesse James   \n",
       "17      2004-12-31                                                imp   \n",
       "18      2004-12-31                                  the International   \n",
       "19      2004-12-31                                       (Lou) Gehrig   \n",
       "20      2004-12-31                                            Morocco   \n",
       "21      2004-12-31                                      (Paul) Bonwit   \n",
       "22      2004-12-31  Hattie McDaniel (for her role in Gone with the...   \n",
       "23      2004-12-31                                                era   \n",
       "24      2004-12-31                                 the Congress Party   \n",
       "25      2004-12-31                                 (Wilt) Chamberlain   \n",
       "26      2004-12-31                                                 K2   \n",
       "27      2004-12-31                                        Ethan Allen   \n",
       "28      2004-12-31                                                ply   \n",
       "29      2004-12-31                                             Horton   \n",
       "...            ...                                                ...   \n",
       "216900  2006-05-11                                       Alec Baldwin   \n",
       "216901  2006-05-11                                             Samson   \n",
       "216902  2006-05-11                                           the teal   \n",
       "216903  2006-05-11                                             Africa   \n",
       "216904  2006-05-11                                      Ronald Reagan   \n",
       "216905  2006-05-11                                           Budapest   \n",
       "216906  2006-05-11                                          Amsterdam   \n",
       "216907  2006-05-11                                                man   \n",
       "216908  2006-05-11                                           a toucan   \n",
       "216909  2006-05-11                                     Allen Ginsberg   \n",
       "216910  2006-05-11                                       Muhammad Ali   \n",
       "216911  2006-05-11                                               Oslo   \n",
       "216912  2006-05-11                                         Siddhartha   \n",
       "216913  2006-05-11                                     (Edward) Elgar   \n",
       "216914  2006-05-11                                             a tern   \n",
       "216915  2006-05-11                             (Erle Stanley) Gardner   \n",
       "216916  2006-05-11                                               work   \n",
       "216917  2006-05-11                                         Georgetown   \n",
       "216918  2006-05-11                                         Fanny Hill   \n",
       "216919  2006-05-11                                           Magritte   \n",
       "216920  2006-05-11                                           thrushes   \n",
       "216921  2006-05-11                                          Anaïs Nin   \n",
       "216922  2006-05-11                                (Margaret) Thatcher   \n",
       "216923  2006-05-11                                         Paramaribo   \n",
       "216924  2006-05-11                                              Stomp   \n",
       "216925  2006-05-11                                           Turandot   \n",
       "216926  2006-05-11                                         a titmouse   \n",
       "216927  2006-05-11                                       Clive Barker   \n",
       "216928  2006-05-11                                           Geronimo   \n",
       "216929  2006-05-11                     Grigori Alexandrovich Potemkin   \n",
       "\n",
       "                               category  \\\n",
       "0                               HISTORY   \n",
       "1       ESPN's TOP 10 ALL-TIME ATHLETES   \n",
       "2           EVERYBODY TALKS ABOUT IT...   \n",
       "3                      THE COMPANY LINE   \n",
       "4                   EPITAPHS & TRIBUTES   \n",
       "5                        3-LETTER WORDS   \n",
       "6                               HISTORY   \n",
       "7       ESPN's TOP 10 ALL-TIME ATHLETES   \n",
       "8           EVERYBODY TALKS ABOUT IT...   \n",
       "9                      THE COMPANY LINE   \n",
       "10                  EPITAPHS & TRIBUTES   \n",
       "11                       3-LETTER WORDS   \n",
       "12                              HISTORY   \n",
       "13      ESPN's TOP 10 ALL-TIME ATHLETES   \n",
       "14          EVERYBODY TALKS ABOUT IT...   \n",
       "15                     THE COMPANY LINE   \n",
       "16                  EPITAPHS & TRIBUTES   \n",
       "17                       3-LETTER WORDS   \n",
       "18                              HISTORY   \n",
       "19      ESPN's TOP 10 ALL-TIME ATHLETES   \n",
       "20          EVERYBODY TALKS ABOUT IT...   \n",
       "21                     THE COMPANY LINE   \n",
       "22                  EPITAPHS & TRIBUTES   \n",
       "23                       3-LETTER WORDS   \n",
       "24                              HISTORY   \n",
       "25      ESPN's TOP 10 ALL-TIME ATHLETES   \n",
       "26                     THE COMPANY LINE   \n",
       "27                  EPITAPHS & TRIBUTES   \n",
       "28                       3-LETTER WORDS   \n",
       "29           DR. SEUSS AT THE MULTIPLEX   \n",
       "...                                 ...   \n",
       "216900                     OFF-BROADWAY   \n",
       "216901                   RIDDLE ME THIS   \n",
       "216902                        \"T\" BIRDS   \n",
       "216903           AUTHORS IN THEIR YOUTH   \n",
       "216904                       QUOTATIONS   \n",
       "216905                   WORLD CAPITALS   \n",
       "216906                     OFF-BROADWAY   \n",
       "216907                   RIDDLE ME THIS   \n",
       "216908                        \"T\" BIRDS   \n",
       "216909           AUTHORS IN THEIR YOUTH   \n",
       "216910                       QUOTATIONS   \n",
       "216911                   WORLD CAPITALS   \n",
       "216912                     OFF-BROADWAY   \n",
       "216913                   RIDDLE ME THIS   \n",
       "216914                        \"T\" BIRDS   \n",
       "216915           AUTHORS IN THEIR YOUTH   \n",
       "216916                       QUOTATIONS   \n",
       "216917                   WORLD CAPITALS   \n",
       "216918                     OFF-BROADWAY   \n",
       "216919                   RIDDLE ME THIS   \n",
       "216920                        \"T\" BIRDS   \n",
       "216921           AUTHORS IN THEIR YOUTH   \n",
       "216922                       QUOTATIONS   \n",
       "216923                   WORLD CAPITALS   \n",
       "216924                     OFF-BROADWAY   \n",
       "216925                   RIDDLE ME THIS   \n",
       "216926                        \"T\" BIRDS   \n",
       "216927           AUTHORS IN THEIR YOUTH   \n",
       "216928                       QUOTATIONS   \n",
       "216929                   HISTORIC NAMES   \n",
       "\n",
       "                                                 question             round  \\\n",
       "0       'For the last 8 years of his life, Galileo was...         Jeopardy!   \n",
       "1       'No. 2: 1912 Olympian; football star at Carlis...         Jeopardy!   \n",
       "2       'The city of Yuma in this state has a record a...         Jeopardy!   \n",
       "3       'In 1963, live on \"The Art Linkletter Show\", t...         Jeopardy!   \n",
       "4       'Signer of the Dec. of Indep., framer of the C...         Jeopardy!   \n",
       "5       'In the title of an Aesop fable, this insect s...         Jeopardy!   \n",
       "6       'Built in 312 B.C. to link Rome & the South of...         Jeopardy!   \n",
       "7       'No. 8: 30 steals for the Birmingham Barons; 2...         Jeopardy!   \n",
       "8       'In the winter of 1971-72, a record 1,122 inch...         Jeopardy!   \n",
       "9       'This housewares store was named for the packa...         Jeopardy!   \n",
       "10                                     '\"And away we go\"'         Jeopardy!   \n",
       "11      'Cows regurgitate this from the first stomach ...         Jeopardy!   \n",
       "12      'In 1000 Rajaraja I of the Cholas battled to t...         Jeopardy!   \n",
       "13      'No. 1: Lettered in hoops, football & lacrosse...         Jeopardy!   \n",
       "14      'On June 28, 1994 the nat'l weather service be...         Jeopardy!   \n",
       "15      'This company's Accutron watch, introduced in ...         Jeopardy!   \n",
       "16      'Outlaw: \"Murdered by a traitor and a coward w...         Jeopardy!   \n",
       "17      'A small demon, or a mischievous child (who mi...         Jeopardy!   \n",
       "18      'Karl led the first of these Marxist organizat...         Jeopardy!   \n",
       "19      'No. 10: FB/LB for Columbia U. in the 1920s; M...         Jeopardy!   \n",
       "20      'Africa's lowest temperature was 11 degrees be...         Jeopardy!   \n",
       "21      'Edward Teller & this man partnered in 1898 to...         Jeopardy!   \n",
       "22      '1939 Oscar winner: \"...you are a credit to yo...         Jeopardy!   \n",
       "23      'In geologic time one of these, shorter than a...         Jeopardy!   \n",
       "24      'This Asian political party was founded in 188...         Jeopardy!   \n",
       "25      'No. 5: Only center to lead the NBA in assists...         Jeopardy!   \n",
       "26      'The Kirschner brothers, Don & Bill, named thi...         Jeopardy!   \n",
       "27      'Revolutionary War hero: \"His spirit is in Ver...         Jeopardy!   \n",
       "28      'A single layer of paper, or to perform one's ...         Jeopardy!   \n",
       "29      '<a href=\"http://www.j-archive.com/media/2004-...  Double Jeopardy!   \n",
       "...                                                   ...               ...   \n",
       "216900  'This Baldwin brother was extremely entertaini...  Double Jeopardy!   \n",
       "216901  'He used the strength of his mind when he prop...  Double Jeopardy!   \n",
       "216902  'Common species of this duck include blue-wing...  Double Jeopardy!   \n",
       "216903  'As a child, Joseph Conrad pointed to the cent...  Double Jeopardy!   \n",
       "216904  'In 1981 he quipped, \"You can tell a lot about...  Double Jeopardy!   \n",
       "216905  'It has a museum devoted to composer Zoltan Ko...  Double Jeopardy!   \n",
       "216906  '\"Red Light Winter\" centers on a love triangle...  Double Jeopardy!   \n",
       "216907  'Sphinx: What animal walks on 4 legs in the mo...  Double Jeopardy!   \n",
       "216908  'Toco, the largest species of this colorful bi...  Double Jeopardy!   \n",
       "216909  'Poet Gregory Corso went on the beat path afte...  Double Jeopardy!   \n",
       "216910  'In his prime this athlete said, It's hard to ...  Double Jeopardy!   \n",
       "216911           'It's home to the Holmenkollen ski jump'  Double Jeopardy!   \n",
       "216912  'We'd like to \"enlighten\" you about the musica...  Double Jeopardy!   \n",
       "216913  'He created the musical riddles called the \"En...  Double Jeopardy!   \n",
       "216914  'One species of this bird breeds in the Arctic...  Double Jeopardy!   \n",
       "216915  'In his teens he worked in an assistant D.A.'s...  Double Jeopardy!   \n",
       "216916  'Oscar Wilde called this 4-letter word \"the cu...  Double Jeopardy!   \n",
       "216917  'Guyanese capital named for a Hanoverian monarch'  Double Jeopardy!   \n",
       "216918  'A naughty 18th c. novel originally titled \"Me...  Double Jeopardy!   \n",
       "216919  'If this riddling Belgian surrealist painter, ...  Double Jeopardy!   \n",
       "216920  'Nightingales & robins belong to this family o...  Double Jeopardy!   \n",
       "216921  'Her hotsy-totsy diaries trace back to one she...  Double Jeopardy!   \n",
       "216922  'A motto of hers was \"in politics, if you want...  Double Jeopardy!   \n",
       "216923                       'It's on the Suriname River'  Double Jeopardy!   \n",
       "216924  'In 2006 the cast of this long-running hit emb...  Double Jeopardy!   \n",
       "216925  'This Puccini opera turns on the solution to 3...  Double Jeopardy!   \n",
       "216926  'In North America this term is properly applie...  Double Jeopardy!   \n",
       "216927  'In Penny Lane, where this \"Hellraiser\" grew u...  Double Jeopardy!   \n",
       "216928  'From Ft. Sill, Okla. he made the plea, Arizon...  Double Jeopardy!   \n",
       "216929  'A silent movie title includes the last name o...   Final Jeopardy!   \n",
       "\n",
       "       show_number   value                                            cleaned  \n",
       "0             4680    $200  [for, the, last, 8, years, of, his, life, gali...  \n",
       "1             4680    $200  [no, 2, 1912, olympian, football, star, at, ca...  \n",
       "2             4680    $200  [the, city, of, yuma, in, this, state, has, a,...  \n",
       "3             4680    $200  [in, 1963, live, on, the, art, linkletter, sho...  \n",
       "4             4680    $200  [signer, of, the, dec, of, indep, framer, of, ...  \n",
       "5             4680    $200  [in, the, title, of, an, aesop, fable, this, i...  \n",
       "6             4680    $400  [built, in, 312, bc, to, link, rome, the, sout...  \n",
       "7             4680    $400  [no, 8, 30, steals, for, the, birmingham, baro...  \n",
       "8             4680    $400  [in, the, winter, of, 197172, a, record, 1122,...  \n",
       "9             4680    $400  [this, housewares, store, was, named, for, the...  \n",
       "10            4680    $400                                [and, away, we, go]  \n",
       "11            4680    $400  [cows, regurgitate, this, from, the, first, st...  \n",
       "12            4680    $600  [in, 1000, rajaraja, i, of, the, cholas, battl...  \n",
       "13            4680    $600  [no, 1, lettered, in, hoops, football, lacross...  \n",
       "14            4680    $600  [on, june, 28, 1994, the, natl, weather, servi...  \n",
       "15            4680    $600  [this, companys, accutron, watch, introduced, ...  \n",
       "16            4680    $600  [outlaw, murdered, by, a, traitor, and, a, cow...  \n",
       "17            4680    $600  [a, small, demon, or, a, mischievous, child, w...  \n",
       "18            4680    $800  [karl, led, the, first, of, these, marxist, or...  \n",
       "19            4680    $800  [no, 10, fblb, for, columbia, u, in, the, 1920...  \n",
       "20            4680    $800  [africas, lowest, temperature, was, 11, degree...  \n",
       "21            4680    $800  [edward, teller, this, man, partnered, in, 189...  \n",
       "22            4680  $2,000  [1939, oscar, winner, you, are, a, credit, to,...  \n",
       "23            4680    $800  [in, geologic, time, one, of, these, shorter, ...  \n",
       "24            4680   $1000  [this, asian, political, party, was, founded, ...  \n",
       "25            4680   $1000  [no, 5, only, center, to, lead, the, nba, in, ...  \n",
       "26            4680   $1000  [the, kirschner, brothers, don, bill, named, t...  \n",
       "27            4680   $1000  [revolutionary, war, hero, his, spirit, is, in...  \n",
       "28            4680   $1000  [a, single, layer, of, paper, or, to, perform,...  \n",
       "29            4680    $400  [a, hrefhttpwwwjarchivecommedia20041231dj23mp3...  \n",
       "...            ...     ...                                                ...  \n",
       "216900        4999    $400  [this, baldwin, brother, was, extremely, enter...  \n",
       "216901        4999    $400  [he, used, the, strength, of, his, mind, when,...  \n",
       "216902        4999    $400  [common, species, of, this, duck, include, blu...  \n",
       "216903        4999    $400  [as, a, child, joseph, conrad, pointed, to, th...  \n",
       "216904        4999    $400  [in, 1981, he, quipped, you, can, tell, a, lot...  \n",
       "216905        4999    $800  [it, has, a, museum, devoted, to, composer, zo...  \n",
       "216906        4999    $800  [red, light, winter, centers, on, a, love, tri...  \n",
       "216907        4999    $800  [sphinx, what, animal, walks, on, 4, legs, in,...  \n",
       "216908        4999    $800  [toco, the, largest, species, of, this, colorf...  \n",
       "216909        4999    $800  [poet, gregory, corso, went, on, the, beat, pa...  \n",
       "216910        4999    $800  [in, his, prime, this, athlete, said, its, har...  \n",
       "216911        4999   $1200      [its, home, to, the, holmenkollen, ski, jump]  \n",
       "216912        4999   $1200  [wed, like, to, enlighten, you, about, the, mu...  \n",
       "216913        4999   $1200  [he, created, the, musical, riddles, called, t...  \n",
       "216914        4999   $1200  [one, species, of, this, bird, breeds, in, the...  \n",
       "216915        4999   $1200  [in, his, teens, he, worked, in, an, assistant...  \n",
       "216916        4999  $2,200  [oscar, wilde, called, this, 4letter, word, th...  \n",
       "216917        4999  $3,400  [guyanese, capital, named, for, a, hanoverian,...  \n",
       "216918        4999   $1600  [a, naughty, 18th, c, novel, originally, title...  \n",
       "216919        4999   $1600  [if, this, riddling, belgian, surrealist, pain...  \n",
       "216920        4999   $1600  [nightingales, robins, belong, to, this, famil...  \n",
       "216921        4999   $1600  [her, hotsytotsy, diaries, trace, back, to, on...  \n",
       "216922        4999   $1600  [a, motto, of, hers, was, in, politics, if, yo...  \n",
       "216923        4999   $2000                    [its, on, the, suriname, river]  \n",
       "216924        4999   $2000  [in, 2006, the, cast, of, this, longrunning, h...  \n",
       "216925        4999   $2000  [this, puccini, opera, turns, on, the, solutio...  \n",
       "216926        4999   $2000  [in, north, america, this, term, is, properly,...  \n",
       "216927        4999   $2000  [in, penny, lane, where, this, hellraiser, gre...  \n",
       "216928        4999   $2000  [from, ft, sill, okla, he, made, the, plea, ar...  \n",
       "216929        4999    None  [a, silent, movie, title, includes, the, last,...  \n",
       "\n",
       "[216930 rows x 8 columns]"
      ]
     },
     "execution_count": 13,
     "metadata": {},
     "output_type": "execute_result"
    }
   ],
   "source": [
    "df"
   ]
  },
  {
   "cell_type": "code",
   "execution_count": 14,
   "metadata": {},
   "outputs": [],
   "source": [
    "# Word2Vec requires that our text have the form of a list\n",
    "# of 'sentences', where each sentence is itself a list of\n",
    "# words. How can we put our _Jeopardy!_ clues in that shape?\n",
    "\n",
    "text = []\n",
    "for clue in data:\n",
    "    sentence = clue['question'].translate(str.maketrans('','',string.punctuation)).split(' ')\n",
    "    \n",
    "    new_sent = []\n",
    "    for word in sentence:\n",
    "        new_sent.append(word.lower())\n",
    "        \n",
    "    text.append(new_sent)\n",
    "    "
   ]
  },
  {
   "cell_type": "code",
   "execution_count": 15,
   "metadata": {
    "scrolled": false
   },
   "outputs": [
    {
     "data": {
      "text/plain": [
       "['for',\n",
       " 'the',\n",
       " 'last',\n",
       " '8',\n",
       " 'years',\n",
       " 'of',\n",
       " 'his',\n",
       " 'life',\n",
       " 'galileo',\n",
       " 'was',\n",
       " 'under',\n",
       " 'house',\n",
       " 'arrest',\n",
       " 'for',\n",
       " 'espousing',\n",
       " 'this',\n",
       " 'mans',\n",
       " 'theory']"
      ]
     },
     "execution_count": 15,
     "metadata": {},
     "output_type": "execute_result"
    }
   ],
   "source": [
    "# Let's check the new structure of our first clue\n",
    "\n",
    "text[0]"
   ]
  },
  {
   "cell_type": "code",
   "execution_count": 17,
   "metadata": {},
   "outputs": [],
   "source": [
    "# Constructing the model is simply a matter of\n",
    "# instantiating a Word2Vec object.\n",
    "\n",
    "model = gensim.models.Word2Vec(text, sg=1)"
   ]
  },
  {
   "cell_type": "code",
   "execution_count": 18,
   "metadata": {},
   "outputs": [
    {
     "data": {
      "text/plain": [
       "(11336247, 15849970)"
      ]
     },
     "execution_count": 18,
     "metadata": {},
     "output_type": "execute_result"
    }
   ],
   "source": [
    "# To train, call 'train()'!\n",
    "\n",
    "model.train(text, total_examples=model.corpus_count, epochs=model.epochs)"
   ]
  },
  {
   "cell_type": "code",
   "execution_count": 19,
   "metadata": {},
   "outputs": [
    {
     "data": {
      "text/plain": [
       "3169994"
      ]
     },
     "execution_count": 19,
     "metadata": {},
     "output_type": "execute_result"
    }
   ],
   "source": [
    "# Checking word  count\n",
    "\n",
    "model.corpus_total_words"
   ]
  },
  {
   "cell_type": "markdown",
   "metadata": {},
   "source": [
    "## model.wv"
   ]
  },
  {
   "cell_type": "code",
   "execution_count": 20,
   "metadata": {},
   "outputs": [
    {
     "data": {
      "text/plain": [
       "<gensim.models.keyedvectors.Word2VecKeyedVectors at 0x1a4f29eef0>"
      ]
     },
     "execution_count": 20,
     "metadata": {},
     "output_type": "execute_result"
    }
   ],
   "source": [
    "# The '.wv' attribute stores the word vectors\n",
    "\n",
    "model.wv"
   ]
  },
  {
   "cell_type": "code",
   "execution_count": 21,
   "metadata": {},
   "outputs": [
    {
     "data": {
      "text/plain": [
       "array([-0.32375434,  0.25363442,  0.19556898,  0.01729642,  0.40905893,\n",
       "        0.22340657, -0.48667616,  0.36684588,  0.03872521,  0.0368966 ,\n",
       "       -0.0370455 , -0.4101133 ,  0.07926968, -0.40919372, -0.09477634,\n",
       "        0.2655209 , -0.18909374,  0.06515364, -0.17111328, -0.02246909,\n",
       "       -0.37857717,  0.07827928,  0.4665071 , -0.17058037,  0.27607435,\n",
       "       -0.15525855,  0.66205305,  0.907417  ,  0.05378035, -0.00711712,\n",
       "       -0.3287419 ,  0.05272369, -0.3989533 ,  0.41803744,  0.10009614,\n",
       "       -0.32285208,  0.1092831 ,  0.36377087, -0.7032415 , -0.28797305,\n",
       "       -0.01113832,  0.37533477,  0.18096426, -0.321657  ,  0.7014054 ,\n",
       "        0.35790172, -0.32673424,  0.1677772 ,  0.03148857,  0.4126226 ,\n",
       "       -0.3600144 , -0.28919268, -0.4023627 ,  0.08578733,  0.12405304,\n",
       "        0.18569642,  0.51810116, -0.10494452,  0.8350915 ,  0.15614595,\n",
       "        0.22059268,  0.15904698, -0.42574894, -0.38157094,  0.09969996,\n",
       "       -0.43120715, -0.3821894 ,  0.27374822, -0.14478482,  0.23177752,\n",
       "        0.06435303,  0.5025065 , -0.28185394, -0.5210742 , -0.138429  ,\n",
       "        0.22877267, -0.23894213,  0.26855895, -0.6005869 ,  0.0314417 ,\n",
       "       -0.16405836, -0.3153577 ,  0.07576357,  0.07981184,  0.13460061,\n",
       "        0.01350587, -0.25093257, -0.09073251, -0.09504511,  0.27418265,\n",
       "       -0.2861572 ,  0.01260832,  0.07269388,  0.253177  , -0.46759993,\n",
       "       -0.23006412,  0.32459205,  0.27335793, -0.21408406,  0.36638203],\n",
       "      dtype=float32)"
      ]
     },
     "execution_count": 21,
     "metadata": {},
     "output_type": "execute_result"
    }
   ],
   "source": [
    "# The vectors are keyed by the words\n",
    "\n",
    "model.wv['child']"
   ]
  },
  {
   "cell_type": "markdown",
   "metadata": {},
   "source": [
    "### model.wv methods\n",
    "#### 'most_similar()' and 'similarity()'"
   ]
  },
  {
   "cell_type": "code",
   "execution_count": 22,
   "metadata": {
    "scrolled": false
   },
   "outputs": [
    {
     "data": {
      "text/plain": [
       "[('artwork', 0.7053092122077942),\n",
       " ('decorative', 0.7052143216133118),\n",
       " ('drip', 0.6876700520515442),\n",
       " ('monogram', 0.6876224279403687),\n",
       " ('paints', 0.6872237920761108),\n",
       " ('wearers', 0.6868605017662048),\n",
       " ('fastener', 0.6836376190185547),\n",
       " ('pottery', 0.6808122396469116),\n",
       " ('typing', 0.6801878809928894),\n",
       " ('bicycles', 0.678655743598938)]"
      ]
     },
     "execution_count": 22,
     "metadata": {},
     "output_type": "execute_result"
    }
   ],
   "source": [
    "model.wv.most_similar('furniture')"
   ]
  },
  {
   "cell_type": "code",
   "execution_count": 23,
   "metadata": {},
   "outputs": [
    {
     "data": {
      "text/plain": [
       "0.66312504"
      ]
     },
     "execution_count": 23,
     "metadata": {},
     "output_type": "execute_result"
    }
   ],
   "source": [
    "model.wv.similarity('furniture', 'jewelry')"
   ]
  },
  {
   "cell_type": "code",
   "execution_count": 24,
   "metadata": {
    "scrolled": true
   },
   "outputs": [
    {
     "data": {
      "text/plain": [
       "[('shorthaired', 0.7200498580932617),\n",
       " ('dog', 0.695000171661377),\n",
       " ('cheetah', 0.6900850534439087),\n",
       " ('terrier', 0.6860383749008179),\n",
       " ('carnivore', 0.679857611656189),\n",
       " ('mouse', 0.6788842678070068),\n",
       " ('hound', 0.6773446798324585),\n",
       " ('pup', 0.6740412712097168),\n",
       " ('rabbit', 0.6717679500579834),\n",
       " ('schnauzer', 0.6686152219772339)]"
      ]
     },
     "execution_count": 24,
     "metadata": {},
     "output_type": "execute_result"
    }
   ],
   "source": [
    "# What's most similar to 'cat'?\n",
    "\n",
    "model.wv.most_similar('cat')"
   ]
  },
  {
   "cell_type": "code",
   "execution_count": 25,
   "metadata": {},
   "outputs": [
    {
     "data": {
      "text/plain": [
       "[('queen', 0.667770266532898),\n",
       " ('aquitaine', 0.6147293448448181),\n",
       " ('consort', 0.6060170531272888),\n",
       " ('throne', 0.6002590656280518),\n",
       " ('margrethe', 0.5975979566574097),\n",
       " ('prince', 0.5953984260559082),\n",
       " ('isabella', 0.5914052128791809),\n",
       " ('monarch', 0.5898510217666626),\n",
       " ('princess', 0.5854009389877319),\n",
       " ('iv', 0.5791540145874023)]"
      ]
     },
     "execution_count": 25,
     "metadata": {},
     "output_type": "execute_result"
    }
   ],
   "source": [
    "# Let's try the familiar example: King - Man + Woman = Queen\n",
    "\n",
    "model.wv.most_similar(positive=['king','woman'],\n",
    "                      negative=['man'], topn=10)"
   ]
  },
  {
   "cell_type": "code",
   "execution_count": 26,
   "metadata": {},
   "outputs": [
    {
     "data": {
      "text/plain": [
       "[('shakespeares', 0.7407880425453186),\n",
       " ('sophocles', 0.7405676245689392),\n",
       " ('romeo', 0.709654688835144),\n",
       " ('euripides', 0.6893974542617798),\n",
       " ('moliere', 0.6886270642280579),\n",
       " ('shakespearean', 0.6829104423522949),\n",
       " ('juliet', 0.6656391620635986),\n",
       " ('falstaff', 0.6642959117889404),\n",
       " ('proteus', 0.6637790203094482),\n",
       " ('rur', 0.6602934002876282)]"
      ]
     },
     "execution_count": 26,
     "metadata": {},
     "output_type": "execute_result"
    }
   ],
   "source": [
    "# Shakespeare\n",
    "\n",
    "model.wv.most_similar(['shakespeare'])"
   ]
  },
  {
   "cell_type": "code",
   "execution_count": 27,
   "metadata": {},
   "outputs": [
    {
     "data": {
      "text/plain": [
       "[('warhol', 0.7608722448348999),\n",
       " ('warhols', 0.7171903252601624),\n",
       " ('movin', 0.7138024568557739),\n",
       " ('specials', 0.709648609161377),\n",
       " ('foxx', 0.703350305557251),\n",
       " ('animator', 0.703190803527832),\n",
       " ('showbr', 0.7027022242546082),\n",
       " ('warden', 0.7023665904998779),\n",
       " ('klugman', 0.7017198801040649),\n",
       " ('newhart', 0.6916227340698242)]"
      ]
     },
     "execution_count": 27,
     "metadata": {},
     "output_type": "execute_result"
    }
   ],
   "source": [
    "# Greg\n",
    "\n",
    "model.wv.most_similar(['andy'])"
   ]
  },
  {
   "cell_type": "code",
   "execution_count": 28,
   "metadata": {},
   "outputs": [
    {
     "data": {
      "text/plain": [
       "[('dc', 0.7926114797592163),\n",
       " ('lincoln', 0.6474660634994507),\n",
       " ('dca', 0.6408315300941467),\n",
       " ('arlington', 0.6385438442230225),\n",
       " ('dcs', 0.6233689785003662),\n",
       " ('p3', 0.6224527955055237),\n",
       " ('washingtons', 0.6179302930831909),\n",
       " ('newseum', 0.6019489765167236),\n",
       " ('jfk', 0.5984033346176147),\n",
       " ('pataki', 0.5931301712989807)]"
      ]
     },
     "execution_count": 28,
     "metadata": {},
     "output_type": "execute_result"
    }
   ],
   "source": [
    "# Washington\n",
    "\n",
    "model.wv.most_similar(['washington'])"
   ]
  },
  {
   "cell_type": "markdown",
   "metadata": {},
   "source": [
    "#### 'doesnt_match()'"
   ]
  },
  {
   "cell_type": "code",
   "execution_count": 29,
   "metadata": {
    "scrolled": true
   },
   "outputs": [
    {
     "data": {
      "text/plain": [
       "'frog'"
      ]
     },
     "execution_count": 29,
     "metadata": {},
     "output_type": "execute_result"
    }
   ],
   "source": [
    "model.wv.doesnt_match(['breakfast','lunch','frog','dinner'])"
   ]
  },
  {
   "cell_type": "code",
   "execution_count": 30,
   "metadata": {},
   "outputs": [
    {
     "data": {
      "text/plain": [
       "'wind'"
      ]
     },
     "execution_count": 30,
     "metadata": {},
     "output_type": "execute_result"
    }
   ],
   "source": [
    "model.wv.doesnt_match(['tree','root','leaf','trunk','wind'])"
   ]
  },
  {
   "cell_type": "markdown",
   "metadata": {},
   "source": [
    "#### 'closer_than()'"
   ]
  },
  {
   "cell_type": "code",
   "execution_count": 31,
   "metadata": {},
   "outputs": [
    {
     "data": {
      "text/plain": [
       "['prince',\n",
       " 'emperor',\n",
       " 'kings',\n",
       " 'iii',\n",
       " 'throne',\n",
       " 'ruler',\n",
       " 'iv',\n",
       " 'monarch',\n",
       " 'vi',\n",
       " 'sultan',\n",
       " 'tudor',\n",
       " 'coronation',\n",
       " 'constantine',\n",
       " 'ix',\n",
       " 'lear',\n",
       " 'xiii',\n",
       " 'charlemagne',\n",
       " 'darius',\n",
       " 'haakon',\n",
       " 'alfonso',\n",
       " 'consort',\n",
       " 'rama',\n",
       " 'xii',\n",
       " 'olaf',\n",
       " 'umberto',\n",
       " 'ascended',\n",
       " 'lionhearted',\n",
       " 'courtier',\n",
       " 'harald',\n",
       " 'gustavus',\n",
       " 'canute',\n",
       " 'ethelred',\n",
       " 'thutmose',\n",
       " '751',\n",
       " '1523']"
      ]
     },
     "execution_count": 31,
     "metadata": {},
     "output_type": "execute_result"
    }
   ],
   "source": [
    "# Which words are closer to 'king' than 'queen' is?\n",
    "\n",
    "model.wv.closer_than('king','queen')"
   ]
  },
  {
   "cell_type": "markdown",
   "metadata": {},
   "source": [
    "#### 'distance()'"
   ]
  },
  {
   "cell_type": "code",
   "execution_count": 32,
   "metadata": {},
   "outputs": [],
   "source": [
    "# For this it will make more sense to\n",
    "# normalize our vectors.\n",
    "\n",
    "model.init_sims(replace=True)"
   ]
  },
  {
   "cell_type": "code",
   "execution_count": 33,
   "metadata": {},
   "outputs": [
    {
     "data": {
      "text/plain": [
       "0.0"
      ]
     },
     "execution_count": 33,
     "metadata": {},
     "output_type": "execute_result"
    }
   ],
   "source": [
    "model.wv.distance('king', 'king')"
   ]
  },
  {
   "cell_type": "code",
   "execution_count": 34,
   "metadata": {},
   "outputs": [
    {
     "data": {
      "text/plain": [
       "0.42663079500198364"
      ]
     },
     "execution_count": 34,
     "metadata": {},
     "output_type": "execute_result"
    }
   ],
   "source": [
    "model.wv.distance('joy', 'happiness')"
   ]
  },
  {
   "cell_type": "markdown",
   "metadata": {},
   "source": [
    "#### 'evaluate_word_analogies()'"
   ]
  },
  {
   "cell_type": "markdown",
   "metadata": {},
   "source": [
    "Check out [this text file](https://raw.githubusercontent.com/nicholas-leonard/word2vec/master/questions-words.txt)!"
   ]
  },
  {
   "cell_type": "code",
   "execution_count": 35,
   "metadata": {},
   "outputs": [
    {
     "name": "stderr",
     "output_type": "stream",
     "text": [
      "/anaconda3/lib/python3.7/site-packages/smart_open/smart_open_lib.py:398: UserWarning: This function is deprecated, use smart_open.open instead. See the migration notes for details: https://github.com/RaRe-Technologies/smart_open/blob/master/README.rst#migrating-to-the-new-open-function\n",
      "  'See the migration notes for details: %s' % _MIGRATION_NOTES_URL\n"
     ]
    }
   ],
   "source": [
    "relatives = model.wv.evaluate_word_analogies('https://raw.githubusercontent.com/nicholas-leonard/word2vec/master/questions-words.txt')[1][4]\n"
   ]
  },
  {
   "cell_type": "code",
   "execution_count": 36,
   "metadata": {},
   "outputs": [
    {
     "data": {
      "text/plain": [
       "144"
      ]
     },
     "execution_count": 36,
     "metadata": {},
     "output_type": "execute_result"
    }
   ],
   "source": [
    "len(relatives['correct'])"
   ]
  },
  {
   "cell_type": "code",
   "execution_count": 37,
   "metadata": {},
   "outputs": [
    {
     "data": {
      "text/plain": [
       "276"
      ]
     },
     "execution_count": 37,
     "metadata": {},
     "output_type": "execute_result"
    }
   ],
   "source": [
    "len(relatives['incorrect'])"
   ]
  },
  {
   "cell_type": "code",
   "execution_count": 38,
   "metadata": {},
   "outputs": [
    {
     "data": {
      "text/plain": [
       "[('BOY', 'GIRL', 'BROTHER', 'SISTER'),\n",
       " ('BOY', 'GIRL', 'BROTHERS', 'SISTERS'),\n",
       " ('BOY', 'GIRL', 'DAD', 'MOM'),\n",
       " ('BOY', 'GIRL', 'FATHER', 'MOTHER'),\n",
       " ('BOY', 'GIRL', 'GRANDSON', 'GRANDDAUGHTER')]"
      ]
     },
     "execution_count": 38,
     "metadata": {},
     "output_type": "execute_result"
    }
   ],
   "source": [
    "relatives['correct'][:5]"
   ]
  },
  {
   "cell_type": "code",
   "execution_count": 39,
   "metadata": {},
   "outputs": [
    {
     "data": {
      "text/plain": [
       "[('BOY', 'GIRL', 'GRANDFATHER', 'GRANDMOTHER'),\n",
       " ('BOY', 'GIRL', 'GRANDPA', 'GRANDMA'),\n",
       " ('BOY', 'GIRL', 'GROOM', 'BRIDE'),\n",
       " ('BOY', 'GIRL', 'HUSBAND', 'WIFE'),\n",
       " ('BOY', 'GIRL', 'NEPHEW', 'NIECE')]"
      ]
     },
     "execution_count": 39,
     "metadata": {},
     "output_type": "execute_result"
    }
   ],
   "source": [
    "relatives['incorrect'][:5]"
   ]
  },
  {
   "cell_type": "code",
   "execution_count": null,
   "metadata": {},
   "outputs": [],
   "source": []
  }
 ],
 "metadata": {
  "kernelspec": {
   "display_name": "Python 3",
   "language": "python",
   "name": "python3"
  },
  "language_info": {
   "codemirror_mode": {
    "name": "ipython",
    "version": 3
   },
   "file_extension": ".py",
   "mimetype": "text/x-python",
   "name": "python",
   "nbconvert_exporter": "python",
   "pygments_lexer": "ipython3",
   "version": "3.7.1"
  }
 },
 "nbformat": 4,
 "nbformat_minor": 2
}
